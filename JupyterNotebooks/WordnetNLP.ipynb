{
 "cells": [
  {
   "cell_type": "code",
   "execution_count": 22,
   "id": "a42ff53c-59dc-48c9-9537-57748b71ce14",
   "metadata": {},
   "outputs": [
    {
     "ename": "SyntaxError",
     "evalue": "unmatched ')' (557263959.py, line 6)",
     "output_type": "error",
     "traceback": [
      "  \u001b[36mCell\u001b[39m\u001b[36m \u001b[39m\u001b[32mIn[22]\u001b[39m\u001b[32m, line 6\u001b[39m\n\u001b[31m    \u001b[39m\u001b[31mnltk.download('punkt'), download_dir='/Users/dannikalove/Documents/GitHub/Portfolio/.venv/bin/nltk')\u001b[39m\n                                                                                                       ^\n\u001b[31mSyntaxError\u001b[39m\u001b[31m:\u001b[39m unmatched ')'\n"
     ]
    }
   ],
   "source": [
    "import os\n",
    "import nltk\n",
    "from nltk.corpus import wordnet as wn\n",
    "from nltk.tokenize import word_tokenize\n",
    "from nltk.tag import pos_tag\n",
    "nltk.download('punkt_tab')\n",
    "\n",
    "cwd = os.getcwd()\n",
    "coll = os.path.join(cwd, 'PythonNLP')\n",
    "\n",
    "files = [os.path.join(coll, file) for file in os.listdir(coll) if file.endswith('GDWake.txt')]"
   ]
  },
  {
   "cell_type": "code",
   "execution_count": null,
   "id": "0d125d68-7d3a-4d5b-8eca-455d2105820e",
   "metadata": {},
   "outputs": [],
   "source": [
    "filepath = 'PythonNLP/GDWake.txt'\n",
    "f = open(filepath, 'r', encoding='utf8').read()\n",
    " \n",
    "tokenList = word_tokenize(f)\n",
    "print(tokenList)"
   ]
  },
  {
   "cell_type": "code",
   "execution_count": null,
   "id": "7442ac70-286c-4e59-b8b7-44cb2d34182f",
   "metadata": {},
   "outputs": [],
   "source": [
    "tagged_tokens = pos_tag(unique_tokens)"
   ]
  },
  {
   "cell_type": "code",
   "execution_count": null,
   "id": "574f4794-bb05-485b-aaf6-c8e28df6e296",
   "metadata": {},
   "outputs": [],
   "source": [
    "verbs = [word for word, tag in tagged_tokens if tag.startswith('VB')]\n",
    "print(verbs)"
   ]
  },
  {
   "cell_type": "code",
   "execution_count": null,
   "id": "8ec91776-7a90-4e36-8c53-9af7dd835dac",
   "metadata": {},
   "outputs": [],
   "source": [
    "for word in verbs:\n",
    "    lemma = wn.morphy(word) or word\n",
    "    syns = wn.synsets(lemma)\n",
    "    print(f\"\\nWord: {word}\")\n",
    "    print(f\"Lemma: {lemma}\")\n",
    "    print(\"Top 3 Synsets:\")\n",
    "    for s in syns[:3]:\n",
    "        print(f\" - {s.name()}: {s.definition()}\")"
   ]
  },
  {
   "cell_type": "code",
   "execution_count": null,
   "id": "9e3546e8-5a4f-4ac7-9823-51e10a40da79",
   "metadata": {},
   "outputs": [],
   "source": [
    "with open('GDWake.txt', 'w', encoding='utf8') as out:\n",
    "    out.write(\"Index\\tWord\\tLemma\\tSynsetCount\\n\")\n",
    "for i, word in enumerate(verbs):\n",
    "    lemma = wn.morphy(word) or word\n",
    "    syns = wn.synsets(lemma)\n",
    "    out.write(f\"{i+1}\\t{word}\\t{lemma}\\t{len(syns)}\\n\")"
   ]
  }
 ],
 "metadata": {
  "kernelspec": {
   "display_name": "Python 3 (ipykernel)",
   "language": "python",
   "name": "python3"
  },
  "language_info": {
   "codemirror_mode": {
    "name": "ipython",
    "version": 3
   },
   "file_extension": ".py",
   "mimetype": "text/x-python",
   "name": "python",
   "nbconvert_exporter": "python",
   "pygments_lexer": "ipython3",
   "version": "3.12.6"
  }
 },
 "nbformat": 4,
 "nbformat_minor": 5
}
